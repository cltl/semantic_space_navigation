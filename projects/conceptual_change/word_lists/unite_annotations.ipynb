{
 "cells": [
  {
   "cell_type": "code",
   "execution_count": 62,
   "metadata": {
    "collapsed": false
   },
   "outputs": [],
   "source": [
    "filtereda = []\n",
    "with open('list-of-ethnic-slurs-filtered-annotation-antske.csv', 'r') as infilea:\n",
    "    annotated_a = [line.split('\\t')[0] for line in infilea.read().strip().split('\\n')[1:] if line.split('\\t')[4] == 'yes']\n"
   ]
  },
  {
   "cell_type": "code",
   "execution_count": 63,
   "metadata": {
    "collapsed": false
   },
   "outputs": [
    {
     "data": {
      "text/plain": [
       "33"
      ]
     },
     "execution_count": 63,
     "metadata": {},
     "output_type": "execute_result"
    }
   ],
   "source": [
    "len(annotated_a)"
   ]
  },
  {
   "cell_type": "code",
   "execution_count": 64,
   "metadata": {
    "collapsed": false
   },
   "outputs": [],
   "source": [
    "filtereda = []\n",
    "with open('list-of-ethnic-slurs-filtered-annotation-pia.csv', 'r') as infilep:\n",
    "    annotated_p = [line.split('\\t')[0] for line in infilep.read().strip().split('\\n')[1:] if line.split('\\t')[4] == 'yes']\n"
   ]
  },
  {
   "cell_type": "code",
   "execution_count": 65,
   "metadata": {
    "collapsed": false
   },
   "outputs": [
    {
     "name": "stdout",
     "output_type": "stream",
     "text": [
      "33 26\n"
     ]
    }
   ],
   "source": [
    "print len(annotated_a), len(annotated_p)"
   ]
  },
  {
   "cell_type": "code",
   "execution_count": 66,
   "metadata": {
    "collapsed": true
   },
   "outputs": [],
   "source": [
    "set_a = set(annotated_a)\n",
    "set_p = set(annotated_p)"
   ]
  },
  {
   "cell_type": "code",
   "execution_count": 67,
   "metadata": {
    "collapsed": false
   },
   "outputs": [
    {
     "name": "stdout",
     "output_type": "stream",
     "text": [
      "(18, 41)\n"
     ]
    }
   ],
   "source": [
    "print (len(set_a.intersection(set_p)), len(set_a.union(set_p)))"
   ]
  },
  {
   "cell_type": "code",
   "execution_count": null,
   "metadata": {
    "collapsed": false
   },
   "outputs": [],
   "source": []
  },
  {
   "cell_type": "code",
   "execution_count": 68,
   "metadata": {
    "collapsed": false
   },
   "outputs": [],
   "source": [
    "with open('slurs_intersection.txt', 'w') as outfile:\n",
    "    for words in set_a.intersection(set_p):\n",
    "        for word in words.split(','):\n",
    "            outfile.write(word.strip()+'\\n')"
   ]
  },
  {
   "cell_type": "code",
   "execution_count": 69,
   "metadata": {
    "collapsed": true
   },
   "outputs": [],
   "source": [
    "with open('slurs_union.txt', 'w') as outfile:\n",
    "    for words in set_a.union(set_p):\n",
    "        for word in words.split(','):\n",
    "            outfile.write(word.strip()+'\\n')"
   ]
  }
 ],
 "metadata": {
  "anaconda-cloud": {},
  "kernelspec": {
   "display_name": "Python [py27]",
   "language": "python",
   "name": "Python [py27]"
  },
  "language_info": {
   "codemirror_mode": {
    "name": "ipython",
    "version": 2
   },
   "file_extension": ".py",
   "mimetype": "text/x-python",
   "name": "python",
   "nbconvert_exporter": "python",
   "pygments_lexer": "ipython2",
   "version": "2.7.12"
  }
 },
 "nbformat": 4,
 "nbformat_minor": 0
}
