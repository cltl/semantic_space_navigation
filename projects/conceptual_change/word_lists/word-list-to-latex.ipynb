{
 "cells": [
  {
   "cell_type": "code",
   "execution_count": 1,
   "metadata": {
    "collapsed": true
   },
   "outputs": [],
   "source": [
    "import pandas as pd\n",
    "import os\n",
    "import glob"
   ]
  },
  {
   "cell_type": "code",
   "execution_count": 23,
   "metadata": {
    "collapsed": false
   },
   "outputs": [
    {
     "data": {
      "text/plain": [
       "'whites, blacks, immigrants, migrants, foreigners'"
      ]
     },
     "execution_count": 23,
     "metadata": {},
     "output_type": "execute_result"
    }
   ],
   "source": [
    "core1_list = glob.glob('core3added.txt')\n",
    "word_list = []\n",
    "for words_file in core1_list:\n",
    "    with open(words_file, 'r') as infile:\n",
    "        for word in infile.read().strip().split('\\n'):\n",
    "            word_list.append(word.strip())\n",
    "\n",
    "', '.join(word_list)"
   ]
  },
  {
   "cell_type": "code",
   "execution_count": 21,
   "metadata": {
    "collapsed": false
   },
   "outputs": [
    {
     "data": {
      "text/plain": [
       "'Akan, Albanians, Afar, Afrikaners, Amhara, Arabs, Armenians, Assamese, Assyrians, Bashkirs, Basques, Bemba, Berbers, British, Bulgarians, Catalans, Circassians, Cornish, Croats, Czechs, Danes, Dinka, Dutch, English, Estonians, Finns, French, Frisians, Galician, Germans, Greeks, Georgians, Gujarati, Hausa, Hindustani, Hui, Hungarians, Icelanders, Igbo, Irish, Italians, Japanese, Javanese, Jews, Kannada, Kikuyu, Kongo, Koreans, Kurds, Latvians, Lithuanians, Luo, Macedonians, Malays, Maltese, Manchu, Marathi, Mongols, Naga, Norwegians, Nubians, Nuer, Parsi, Persians, Poles, Portuguese, Punjabi, Romanians, Romani, Russians, Sara, Sardinians, Scottish, Serbs, Sinhalese, Slovaks, Slovenes, Spaniards, Swedes, Tamils, Telugu, Tibetans, Tswana, Turks, Ukrainians, Uzbek, Vietnamese, Welsh, Xhosa, Yoruba, Zulu'"
      ]
     },
     "execution_count": 21,
     "metadata": {},
     "output_type": "execute_result"
    }
   ],
   "source": [
    "', '.join(word_list)"
   ]
  }
 ],
 "metadata": {
  "anaconda-cloud": {},
  "kernelspec": {
   "display_name": "Python [py27]",
   "language": "python",
   "name": "Python [py27]"
  },
  "language_info": {
   "codemirror_mode": {
    "name": "ipython",
    "version": 2
   },
   "file_extension": ".py",
   "mimetype": "text/x-python",
   "name": "python",
   "nbconvert_exporter": "python",
   "pygments_lexer": "ipython2",
   "version": "2.7.12"
  }
 },
 "nbformat": 4,
 "nbformat_minor": 0
}
